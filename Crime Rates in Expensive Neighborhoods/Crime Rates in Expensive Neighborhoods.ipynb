{
 "cells": [
  {
   "cell_type": "markdown",
   "metadata": {},
   "source": [
    "### Crime Rates in Expensive Neighborhoods"
   ]
  },
  {
   "cell_type": "markdown",
   "metadata": {},
   "source": [
    "Esse notebook tem como objetivo explanar o método de Regressão, que é utilizado por algoritmos de Aprendizado de Máquina para estimar e prever certas informações. O projeto foi criado durante o curso de <b>Machine Learning: Regression</b> ministrado pela University of Washington no Coursera. A base utilizada também foi disponibilizada durante o curso (e pelo curso)."
   ]
  },
  {
   "cell_type": "markdown",
   "metadata": {},
   "source": [
    "A regressão simples tem como objetivo traçar uma reta no plano cartesiano referente aos valores utilizados para basear a predição e os valores da predição. A reta visa minimizar o Residual Sum Of Squares (RSS), também chamado de Erro, que é a distância da reta criada para o valor real da predição. Ela também deve ser Linear (no caso da Regressão Simples). A reta obedece o seguinte equação:"
   ]
  },
  {
   "cell_type": "markdown",
   "metadata": {},
   "source": [
    "$$\\hat{y} = \\hat{w}_{0}+ \\hat{w}_{1}x$$"
   ]
  },
  {
   "cell_type": "markdown",
   "metadata": {},
   "source": [
    "- y  = reta gerada\n",
    "- wo = valor b da reta\n",
    "- w1 = valor a, a ser multiplicado por x\n",
    "- x  = valor para basear a predição"
   ]
  },
  {
   "cell_type": "markdown",
   "metadata": {},
   "source": [
    "Dessa forma, para obter a melhor reta possível que melhor se adequa aos nossos dados, devemos minimizar os erros testando novos valores para <i>wo</i> e <i>w1</i> de maneira automatizada. Podemos fazer teste com esses valores visando minimizar o Residual Sum Of Squares (RSS)"
   ]
  },
  {
   "cell_type": "markdown",
   "metadata": {},
   "source": [
    "#### Importar bibliotecas e carregar dados"
   ]
  },
  {
   "cell_type": "code",
   "execution_count": 52,
   "metadata": {},
   "outputs": [],
   "source": [
    "import matplotlib.pyplot as plt\n",
    "import sklearn as sk\n",
    "import pandas as pd"
   ]
  },
  {
   "cell_type": "markdown",
   "metadata": {},
   "source": [
    "#### Carregar e visualizar dados"
   ]
  },
  {
   "cell_type": "markdown",
   "metadata": {},
   "source": [
    "A base utilizada foi disponibilizada pela University of Washington e contém preço de casas e o indíce criminal daquela determinada região."
   ]
  },
  {
   "cell_type": "code",
   "execution_count": 53,
   "metadata": {},
   "outputs": [
    {
     "data": {
      "text/html": [
       "<div>\n",
       "<style scoped>\n",
       "    .dataframe tbody tr th:only-of-type {\n",
       "        vertical-align: middle;\n",
       "    }\n",
       "\n",
       "    .dataframe tbody tr th {\n",
       "        vertical-align: top;\n",
       "    }\n",
       "\n",
       "    .dataframe thead th {\n",
       "        text-align: right;\n",
       "    }\n",
       "</style>\n",
       "<table border=\"1\" class=\"dataframe\">\n",
       "  <thead>\n",
       "    <tr style=\"text-align: right;\">\n",
       "      <th></th>\n",
       "      <th>HousePrice</th>\n",
       "      <th>HsPrc ($10,000)</th>\n",
       "      <th>CrimeRate</th>\n",
       "      <th>MilesPhila</th>\n",
       "      <th>PopChg</th>\n",
       "      <th>Name</th>\n",
       "      <th>County</th>\n",
       "    </tr>\n",
       "  </thead>\n",
       "  <tbody>\n",
       "    <tr>\n",
       "      <th>0</th>\n",
       "      <td>140463</td>\n",
       "      <td>14.0463</td>\n",
       "      <td>29.7</td>\n",
       "      <td>10.0</td>\n",
       "      <td>-1.0</td>\n",
       "      <td>Abington</td>\n",
       "      <td>Montgome</td>\n",
       "    </tr>\n",
       "    <tr>\n",
       "      <th>1</th>\n",
       "      <td>113033</td>\n",
       "      <td>11.3033</td>\n",
       "      <td>24.1</td>\n",
       "      <td>18.0</td>\n",
       "      <td>4.0</td>\n",
       "      <td>Ambler</td>\n",
       "      <td>Montgome</td>\n",
       "    </tr>\n",
       "    <tr>\n",
       "      <th>2</th>\n",
       "      <td>124186</td>\n",
       "      <td>12.4186</td>\n",
       "      <td>19.5</td>\n",
       "      <td>25.0</td>\n",
       "      <td>8.0</td>\n",
       "      <td>Aston</td>\n",
       "      <td>Delaware</td>\n",
       "    </tr>\n",
       "    <tr>\n",
       "      <th>3</th>\n",
       "      <td>110490</td>\n",
       "      <td>11.0490</td>\n",
       "      <td>49.4</td>\n",
       "      <td>25.0</td>\n",
       "      <td>2.7</td>\n",
       "      <td>Bensalem</td>\n",
       "      <td>Bucks</td>\n",
       "    </tr>\n",
       "    <tr>\n",
       "      <th>4</th>\n",
       "      <td>79124</td>\n",
       "      <td>7.9124</td>\n",
       "      <td>54.1</td>\n",
       "      <td>19.0</td>\n",
       "      <td>3.9</td>\n",
       "      <td>Bristol B.</td>\n",
       "      <td>Bucks</td>\n",
       "    </tr>\n",
       "  </tbody>\n",
       "</table>\n",
       "</div>"
      ],
      "text/plain": [
       "   HousePrice  HsPrc ($10,000)  CrimeRate  MilesPhila  PopChg        Name  \\\n",
       "0      140463          14.0463       29.7        10.0    -1.0    Abington   \n",
       "1      113033          11.3033       24.1        18.0     4.0      Ambler   \n",
       "2      124186          12.4186       19.5        25.0     8.0       Aston   \n",
       "3      110490          11.0490       49.4        25.0     2.7    Bensalem   \n",
       "4       79124           7.9124       54.1        19.0     3.9  Bristol B.   \n",
       "\n",
       "     County  \n",
       "0  Montgome  \n",
       "1  Montgome  \n",
       "2  Delaware  \n",
       "3     Bucks  \n",
       "4     Bucks  "
      ]
     },
     "execution_count": 53,
     "metadata": {},
     "output_type": "execute_result"
    }
   ],
   "source": [
    "sales = pd.read_csv(\"Philadelphia_Crime_Rate_noNA.csv\")\n",
    "sales.head()"
   ]
  },
  {
   "cell_type": "markdown",
   "metadata": {},
   "source": [
    "Realizar uma visualização das taxas de crime relacionada com os preços das casas"
   ]
  },
  {
   "cell_type": "code",
   "execution_count": 54,
   "metadata": {},
   "outputs": [
    {
     "data": {
      "image/png": "[encoded data removed]",
      "text/plain": [
       "<Figure size 432x288 with 1 Axes>"
      ]
     },
     "metadata": {
      "needs_background": "light"
     },
     "output_type": "display_data"
    }
   ],
   "source": [
    "plt.scatter(sales['CrimeRate'], sales['HousePrice'], marker='.')\n",
    "plt.xlabel('Crime Rating')\n",
    "plt.ylabel('House Prices')\n",
    "plt.show()"
   ]
  },
  {
   "cell_type": "markdown",
   "metadata": {},
   "source": [
    "### Modelo de Regressão Linear Simples"
   ]
  },
  {
   "cell_type": "markdown",
   "metadata": {},
   "source": [
    "Vamos criar um modelo que tem como entrada a taxa de crimes daquela determinada região e o preço."
   ]
  },
  {
   "cell_type": "code",
   "execution_count": 55,
   "metadata": {},
   "outputs": [],
   "source": [
    "crime_rate  = (sales['CrimeRate'].values).reshape(-1, 1)\n",
    "house_price = (sales['HousePrice'].values)"
   ]
  },
  {
   "cell_type": "code",
   "execution_count": 56,
   "metadata": {},
   "outputs": [],
   "source": [
    "crime_model = sk.linear_model.LinearRegression().fit(crime_rate, house_price)"
   ]
  },
  {
   "cell_type": "markdown",
   "metadata": {},
   "source": [
    "##### Plotando a curva do modelo e vendo como se comporta com os dados"
   ]
  },
  {
   "cell_type": "code",
   "execution_count": 57,
   "metadata": {},
   "outputs": [
    {
     "data": {
      "text/plain": [
       "Text(0, 0.5, 'House Prices')"
      ]
     },
     "execution_count": 57,
     "metadata": {},
     "output_type": "execute_result"
    },
    {
     "data": {
      "image/png": "[encoded data removed]",
      "text/plain": [
       "<Figure size 432x288 with 1 Axes>"
      ]
     },
     "metadata": {
      "needs_background": "light"
     },
     "output_type": "display_data"
    }
   ],
   "source": [
    "plt.scatter(crime_rate, house_price, color = \"red\", marker='.')\n",
    "plt.plot(crime_rate, crime_model.predict(crime_rate), color = \"green\")\n",
    "plt.xlabel('Crime Rating')\n",
    "plt.ylabel('House Prices')"
   ]
  },
  {
   "cell_type": "markdown",
   "metadata": {},
   "source": [
    "A existência de um outlier está afetando no desempenho do modelo. Vamos removê-lo e ver como a curva se comporta. A análise já foi feita e o outlier se encontra em uma região onde <b>'MilesPhila' == 0.0 <\\b>"
   ]
  },
  {
   "cell_type": "markdown",
   "metadata": {},
   "source": [
    "##### Removendo o Outlier e refazendo a análise"
   ]
  },
  {
   "cell_type": "code",
   "execution_count": 58,
   "metadata": {},
   "outputs": [],
   "source": [
    "sales_no_OUT = sales[sales['MilesPhila'] != 0.0]"
   ]
  },
  {
   "cell_type": "code",
   "execution_count": 59,
   "metadata": {},
   "outputs": [
    {
     "data": {
      "image/png": "[encoded data removed]",
      "text/plain": [
       "<Figure size 432x288 with 1 Axes>"
      ]
     },
     "metadata": {
      "needs_background": "light"
     },
     "output_type": "display_data"
    }
   ],
   "source": [
    "plt.scatter(sales_no_OUT['CrimeRate'], sales_no_OUT['HousePrice'], marker='.')\n",
    "plt.xlabel('Crime Rating')\n",
    "plt.ylabel('House Prices')\n",
    "plt.show()"
   ]
  },
  {
   "cell_type": "code",
   "execution_count": 60,
   "metadata": {},
   "outputs": [],
   "source": [
    "crime_rate  = (sales_no_OUT['CrimeRate'].values).reshape(-1, 1)\n",
    "house_price = (sales_no_OUT['HousePrice'].values)"
   ]
  },
  {
   "cell_type": "code",
   "execution_count": 61,
   "metadata": {},
   "outputs": [],
   "source": [
    "crime_model_no_OUT = sk.linear_model.LinearRegression().fit(crime_rate, house_price)"
   ]
  },
  {
   "cell_type": "markdown",
   "metadata": {},
   "source": [
    "##### Plotando a curva do modelo sem o Outlier"
   ]
  },
  {
   "cell_type": "code",
   "execution_count": 62,
   "metadata": {},
   "outputs": [
    {
     "data": {
      "text/plain": [
       "Text(0, 0.5, 'House Prices')"
      ]
     },
     "execution_count": 62,
     "metadata": {},
     "output_type": "execute_result"
    },
    {
     "data": {
      "image/png": "[encoded data removed]",
      "text/plain": [
       "<Figure size 432x288 with 1 Axes>"
      ]
     },
     "metadata": {
      "needs_background": "light"
     },
     "output_type": "display_data"
    }
   ],
   "source": [
    "plt.scatter(crime_rate, house_price, color = \"red\", marker='.')\n",
    "plt.plot(crime_rate, crime_model.predict(crime_rate), color = \"green\")\n",
    "plt.xlabel('Crime Rating')\n",
    "plt.ylabel('House Prices')"
   ]
  },
  {
   "cell_type": "markdown",
   "metadata": {},
   "source": [
    "##### Comparando o modelo com outlier e o modelo sem outlier"
   ]
  },
  {
   "cell_type": "code",
   "execution_count": 69,
   "metadata": {},
   "outputs": [
    {
     "name": "stdout",
     "output_type": "stream",
     "text": [
      "With Outlier\n",
      "intercept:  176629.40810695427\n",
      "slope:      [-576.90812768]\n"
     ]
    }
   ],
   "source": [
    "print('With Outlier')\n",
    "print('intercept: ', crime_model.intercept_)\n",
    "print('slope:     ', crime_model.coef_)"
   ]
  },
  {
   "cell_type": "code",
   "execution_count": 70,
   "metadata": {},
   "outputs": [
    {
     "name": "stdout",
     "output_type": "stream",
     "text": [
      "No Outlier\n",
      "intercept:  225233.55183900383\n",
      "slope:      [-2288.68942995]\n"
     ]
    }
   ],
   "source": [
    "print('No Outlier')\n",
    "print('intercept: ', crime_model_no_OUT.intercept_)\n",
    "print('slope:     ', crime_model_no_OUT.coef_)"
   ]
  },
  {
   "cell_type": "markdown",
   "metadata": {},
   "source": [
    "A gente aqui observa como o outlier afetou no intercept. É uma diferença enorme! Cerca de 2,287."
   ]
  },
  {
   "cell_type": "markdown",
   "metadata": {},
   "source": [
    "##### Chegamos a um resultado satisfatório?"
   ]
  },
  {
   "cell_type": "markdown",
   "metadata": {},
   "source": [
    "Apesar de removermos um outlier, é preciso fazer uma reanálise no gráfico de distibuição acima para ver se nosso modelo pode ser ainda mais otimizado. Existem cerca de 5 invidíduos que estão acima da faixa de preço de 300.000 que se encontram isolados mediante a todo o resto do fluxo dos dados. Que tal fazermos um teste removendo eles?"
   ]
  },
  {
   "cell_type": "markdown",
   "metadata": {},
   "source": [
    "### Removendo os valores altos com preço acima dos 300.000"
   ]
  },
  {
   "cell_type": "code",
   "execution_count": 71,
   "metadata": {},
   "outputs": [],
   "source": [
    "sales_nohighend = sales_no_OUT[sales_no_OUT['HousePrice'] < 300000]"
   ]
  },
  {
   "cell_type": "code",
   "execution_count": 72,
   "metadata": {},
   "outputs": [],
   "source": [
    "crime_rate  = (sales_nohighend['CrimeRate'].values).reshape(-1, 1)\n",
    "house_price = (sales_nohighend['HousePrice'].values)"
   ]
  },
  {
   "cell_type": "code",
   "execution_count": 73,
   "metadata": {},
   "outputs": [],
   "source": [
    "crime_model_nohighend = sk.linear_model.LinearRegression().fit(crime_rate, house_price)"
   ]
  },
  {
   "cell_type": "markdown",
   "metadata": {},
   "source": [
    "##### Comparando o modelo sem outlier e o modelo sem os valores altos"
   ]
  },
  {
   "cell_type": "code",
   "execution_count": 74,
   "metadata": {},
   "outputs": [
    {
     "name": "stdout",
     "output_type": "stream",
     "text": [
      "With Outlier And HighEnds\n",
      "intercept:  199098.85266980444\n",
      "slope:      [-1838.56264859]\n"
     ]
    }
   ],
   "source": [
    "print('With Outlier And HighEnds')\n",
    "print('intercept: ', crime_model_nohighend.intercept_)\n",
    "print('slope:     ', crime_model_nohighend.coef_)"
   ]
  },
  {
   "cell_type": "markdown",
   "metadata": {},
   "source": [
    "Parece que a eficiência não é a mesma. Acontece que certos valores altos ajudam a identificar pequenos desvios no padrão dos dados, o que ajuda na eficácia do do nosso modelo. Nesse caso, optaremos apenas pelo modelo sem outlier e com highends!"
   ]
  },
  {
   "cell_type": "markdown",
   "metadata": {},
   "source": [
    "##### Mas afinal o que é intercept e slope?"
   ]
  },
  {
   "cell_type": "markdown",
   "metadata": {},
   "source": [
    "Tive que revisar pois não conseguia responder de uma maneira entendível. Mas basicamente, dada uma reta r que obedeça uma função linear de regressão logística simples, intercept é o ponto que a reta toca no eixo y, e slope é a variável que multiplica o ponto x. Dessa forma, no nosso caso, a base sem o outlier melhorou pois o intercept subiu e se aproximou mais dos pontos de interesse, ficou bem mais centralizado do que antes, além do slope, que se tornou mais referente aos pontos próximos da reta. Dessa forma, a perfomance se tornou mais adequada aos dados normalizados. A grosso modo:"
   ]
  },
  {
   "cell_type": "markdown",
   "metadata": {},
   "source": [
    "$$reta = intercept + slope.x$$"
   ]
  }
 ],
 "metadata": {
  "kernelspec": {
   "display_name": "Python 3",
   "language": "python",
   "name": "python3"
  },
  "language_info": {
   "codemirror_mode": {
    "name": "ipython",
    "version": 3
   },
   "file_extension": ".py",
   "mimetype": "text/x-python",
   "name": "python",
   "nbconvert_exporter": "python",
   "pygments_lexer": "ipython3",
   "version": "3.8.5"
  }
 },
 "nbformat": 4,
 "nbformat_minor": 2
}
